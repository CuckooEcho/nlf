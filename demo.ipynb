{
 "cells": [
  {
   "cell_type": "markdown",
   "metadata": {
    "colab_type": "text",
    "id": "view-in-github"
   },
   "source": [
    "<a href=\"https://colab.research.google.com/github/isarandi/nlf/blob/main/demo.ipynb\" target=\"_parent\"><img src=\"https://colab.research.google.com/assets/colab-badge.svg\" alt=\"Open In Colab\"/></a>"
   ]
  },
  {
   "cell_type": "code",
   "execution_count": 2,
   "metadata": {
    "id": "z9M_fO5v8mW4"
   },
   "outputs": [
    {
     "data": {
      "text/plain": [
       "([tensor([[ 37.4788,  44.6511,  42.2149,  41.1758,  98.7445,  65.3594,  49.6393,\n",
       "            96.4143,  78.0159,  54.7387, 112.6405,  91.2567,  45.8881,  52.2826,\n",
       "            49.2345,  38.9249,  54.7573,  52.5648,  47.2842,  41.8995,  49.8594,\n",
       "            52.4765,  56.9714,  61.1963],\n",
       "          [ 74.0019,  62.3973,  75.1582,  70.1295,  63.1201,  94.4482,  76.3882,\n",
       "            68.8923,  77.7858,  79.2575, 100.9540, 111.9165,  67.9880,  75.5849,\n",
       "            76.2501,  68.6686,  81.0182,  99.9227,  71.9108, 129.1660,  54.4533,\n",
       "           111.4073,  53.0102, 123.7750]], device='cuda:0')],\n",
       " [tensor([[48.5806, 42.5388, 41.0349,  ..., 93.1808, 77.3265, 81.2650],\n",
       "          [68.1411, 58.6624, 60.2852,  ..., 87.8695, 88.8703, 84.3273]],\n",
       "         device='cuda:0')])"
      ]
     },
     "execution_count": 2,
     "metadata": {},
     "output_type": "execute_result"
    }
   ],
   "source": [
    "# PyTorch version\n",
    "\n",
    "import torch\n",
    "import torchvision  # Must import this for the model to load without error\n",
    "\n",
    "# ! mkdir -p models\n",
    "# ! wget -q -O models/nlf_l_multi.torchscript https://bit.ly/nlf_l_pt\n",
    "model = torch.jit.load('models/nlf_l_multi.torchscript').cuda().eval()\n",
    "image = torchvision.io.read_image('example_image.jpg').cuda()\n",
    "frame_batch = image.unsqueeze(0)\n",
    "\n",
    "with torch.inference_mode(), torch.device('cuda'):\n",
    "   # pred = model.detect_smpl_batched(frame_batch, model_name='smplx')\n",
    "   pred = model.detect_smpl_batched(frame_batch)\n",
    "\n",
    "# SMPL Parametric predictions\n",
    "pred['pose'], pred['betas'], pred['trans']\n",
    "pred['joints3d'], pred['vertices3d']\n",
    "pred['joints2d'], pred['vertices2d']\n",
    "\n",
    "# Nonparametric joints and vertices\n",
    "pred['joints3d_nonparam'], pred['vertices3d_nonparam']\n",
    "pred['joints2d_nonparam'], pred['vertices2d_nonparam']\n",
    "pred['joint_uncertainties'], pred['vertex_uncertainties']\n"
   ]
  },
  {
   "cell_type": "code",
   "execution_count": null,
   "metadata": {
    "id": "Axm3SI936RD6"
   },
   "outputs": [],
   "source": [
    "\n",
    "!# TF version\n",
    "\n",
    "import tensorflow as tf\n",
    "import tensorflow_hub as tfhub\n",
    "\n",
    "model = tfhub.load('https://bit.ly/nlf_l')  # Takes several minutes\n",
    "! wget -q https://images.pexels.com/photos/8928887/pexels-photo-8928887.jpeg?cs=srgb&dl=pexels-rdne-8928887.jpg&fm=jpg&w=640&h=960 -O example.jpg\n",
    "img = tf.image.decode_image(tf.io.read_file('example.jpg'))\n",
    "pred = model.detect_smpl(img)\n",
    "\n",
    "# SMPL Parametric predictions\n",
    "pred['pose'], pred['betas'], pred['trans']\n",
    "pred['joints3d'], pred['vertices3d']\n",
    "pred['joints2d'], pred['vertices2d']\n",
    "\n",
    "# Nonparametric joints and vertices\n",
    "pred['joints3d_nonparam'], pred['vertices3d_nonparam']\n",
    "pred['joints2d_nonparam'], pred['vertices2d_nonparam']\n",
    "pred['joint_uncertainties'], pred['vertex_uncertainties']"
   ]
  }
 ],
 "metadata": {
  "accelerator": "GPU",
  "colab": {
   "authorship_tag": "ABX9TyNAU6x0vee3tr+7FTmfmc08",
   "gpuType": "T4",
   "include_colab_link": true,
   "provenance": []
  },
  "kernelspec": {
   "display_name": "fingerprint",
   "language": "python",
   "name": "python3"
  },
  "language_info": {
   "codemirror_mode": {
    "name": "ipython",
    "version": 3
   },
   "file_extension": ".py",
   "mimetype": "text/x-python",
   "name": "python",
   "nbconvert_exporter": "python",
   "pygments_lexer": "ipython3",
   "version": "3.10.16"
  }
 },
 "nbformat": 4,
 "nbformat_minor": 0
}
